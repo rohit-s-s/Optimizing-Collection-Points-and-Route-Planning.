{
 "cells": [
  {
   "cell_type": "code",
   "execution_count": 3,
   "metadata": {},
   "outputs": [],
   "source": [
    "import openrouteservice\n",
    "from openrouteservice import convert\n",
    "import json\n",
    "import pandas as pd\n",
    "import numpy as np\n",
    "\n",
    "KEY = \"5b3ce3597851110001cf62488ce11ae3969f49228180ab51520db7f5\"\n",
    "client = openrouteservice.Client(key=KEY)"
   ]
  },
  {
   "cell_type": "code",
   "execution_count": 4,
   "metadata": {},
   "outputs": [],
   "source": [
    "df = pd.read_csv(\"collection_points.csv\")"
   ]
  },
  {
   "cell_type": "code",
   "execution_count": 5,
   "metadata": {},
   "outputs": [
    {
     "data": {
      "text/html": [
       "<div>\n",
       "<style scoped>\n",
       "    .dataframe tbody tr th:only-of-type {\n",
       "        vertical-align: middle;\n",
       "    }\n",
       "\n",
       "    .dataframe tbody tr th {\n",
       "        vertical-align: top;\n",
       "    }\n",
       "\n",
       "    .dataframe thead th {\n",
       "        text-align: right;\n",
       "    }\n",
       "</style>\n",
       "<table border=\"1\" class=\"dataframe\">\n",
       "  <thead>\n",
       "    <tr style=\"text-align: right;\">\n",
       "      <th></th>\n",
       "      <th>sl.no</th>\n",
       "      <th>lat</th>\n",
       "      <th>lon</th>\n",
       "      <th>daily</th>\n",
       "      <th>weekly</th>\n",
       "      <th>grams</th>\n",
       "      <th>kilo</th>\n",
       "      <th>cm3</th>\n",
       "      <th>litre</th>\n",
       "      <th>demand</th>\n",
       "    </tr>\n",
       "  </thead>\n",
       "  <tbody>\n",
       "    <tr>\n",
       "      <th>0</th>\n",
       "      <td>1</td>\n",
       "      <td>8.729830</td>\n",
       "      <td>76.967563</td>\n",
       "      <td>0</td>\n",
       "      <td>0</td>\n",
       "      <td>0</td>\n",
       "      <td>0.000</td>\n",
       "      <td>0.000000</td>\n",
       "      <td>0.000000</td>\n",
       "      <td>0</td>\n",
       "    </tr>\n",
       "    <tr>\n",
       "      <th>1</th>\n",
       "      <td>2</td>\n",
       "      <td>8.507869</td>\n",
       "      <td>76.939775</td>\n",
       "      <td>221</td>\n",
       "      <td>1547</td>\n",
       "      <td>3094</td>\n",
       "      <td>3.094</td>\n",
       "      <td>0.003363</td>\n",
       "      <td>3.363043</td>\n",
       "      <td>4</td>\n",
       "    </tr>\n",
       "    <tr>\n",
       "      <th>2</th>\n",
       "      <td>3</td>\n",
       "      <td>8.485033</td>\n",
       "      <td>76.945030</td>\n",
       "      <td>552</td>\n",
       "      <td>3864</td>\n",
       "      <td>7728</td>\n",
       "      <td>7.728</td>\n",
       "      <td>0.008400</td>\n",
       "      <td>8.400000</td>\n",
       "      <td>9</td>\n",
       "    </tr>\n",
       "    <tr>\n",
       "      <th>3</th>\n",
       "      <td>4</td>\n",
       "      <td>8.511633</td>\n",
       "      <td>76.956841</td>\n",
       "      <td>375</td>\n",
       "      <td>2625</td>\n",
       "      <td>5250</td>\n",
       "      <td>5.250</td>\n",
       "      <td>0.005707</td>\n",
       "      <td>5.706522</td>\n",
       "      <td>6</td>\n",
       "    </tr>\n",
       "    <tr>\n",
       "      <th>4</th>\n",
       "      <td>5</td>\n",
       "      <td>8.499910</td>\n",
       "      <td>76.947843</td>\n",
       "      <td>539</td>\n",
       "      <td>3773</td>\n",
       "      <td>7546</td>\n",
       "      <td>7.546</td>\n",
       "      <td>0.008202</td>\n",
       "      <td>8.202174</td>\n",
       "      <td>9</td>\n",
       "    </tr>\n",
       "  </tbody>\n",
       "</table>\n",
       "</div>"
      ],
      "text/plain": [
       "   sl.no       lat        lon  daily  weekly  grams   kilo       cm3  \\\n",
       "0      1  8.729830  76.967563      0       0      0  0.000  0.000000   \n",
       "1      2  8.507869  76.939775    221    1547   3094  3.094  0.003363   \n",
       "2      3  8.485033  76.945030    552    3864   7728  7.728  0.008400   \n",
       "3      4  8.511633  76.956841    375    2625   5250  5.250  0.005707   \n",
       "4      5  8.499910  76.947843    539    3773   7546  7.546  0.008202   \n",
       "\n",
       "      litre  demand  \n",
       "0  0.000000       0  \n",
       "1  3.363043       4  \n",
       "2  8.400000       9  \n",
       "3  5.706522       6  \n",
       "4  8.202174       9  "
      ]
     },
     "execution_count": 5,
     "metadata": {},
     "output_type": "execute_result"
    }
   ],
   "source": [
    "df.head()"
   ]
  },
  {
   "cell_type": "code",
   "execution_count": 6,
   "metadata": {},
   "outputs": [],
   "source": [
    "coord = df[[\"lon\",\"lat\"]]\n",
    "coordinates = np.array(coord).tolist()"
   ]
  },
  {
   "cell_type": "code",
   "execution_count": 7,
   "metadata": {},
   "outputs": [
    {
     "data": {
      "text/plain": [
       "[[76.96756298, 8.729829504],\n",
       " [76.9397748, 8.5078686],\n",
       " [76.9450304, 8.4850326],\n",
       " [76.9568412, 8.511633],\n",
       " [76.9478427, 8.4999102],\n",
       " [76.9359508, 8.4930017],\n",
       " [77.0018354, 8.5262285],\n",
       " [76.9880265, 8.5088299],\n",
       " [76.9739357, 8.5099327],\n",
       " [76.9878466, 8.528411],\n",
       " [77.0005292, 8.5114971],\n",
       " [76.9048977, 8.5573577],\n",
       " [76.9226256, 8.552737],\n",
       " [76.9066523, 8.5350688],\n",
       " [76.948083, 8.4416364],\n",
       " [76.9425544, 8.4625698],\n",
       " [76.9359446, 8.4551036],\n",
       " [76.9504363, 8.4518395],\n",
       " [76.9758432, 8.4711099],\n",
       " [76.9787348, 8.4882982],\n",
       " [76.9603045, 8.4781449],\n",
       " [76.9781104, 8.5436444],\n",
       " [76.979788, 8.5512196],\n",
       " [76.9871142, 8.5615195],\n",
       " [76.9584239, 8.5475856],\n",
       " [77.008903, 8.5351623],\n",
       " [76.9272136, 8.5096141],\n",
       " [76.9285731, 8.5221056],\n",
       " [76.9181472, 8.5303773],\n",
       " [76.9175003, 8.5016069],\n",
       " [76.9324078, 8.5313578],\n",
       " [76.9750831, 8.5480836],\n",
       " [76.9941465, 8.5561299],\n",
       " [76.961031, 8.5539813],\n",
       " [76.9893269, 8.544922]]"
      ]
     },
     "execution_count": 7,
     "metadata": {},
     "output_type": "execute_result"
    }
   ],
   "source": [
    "coordinates"
   ]
  },
  {
   "cell_type": "code",
   "execution_count": 8,
   "metadata": {},
   "outputs": [],
   "source": [
    "res = client.distance_matrix(coordinates, metrics=['duration', 'distance'], units='m')"
   ]
  },
  {
   "cell_type": "code",
   "execution_count": 9,
   "metadata": {},
   "outputs": [],
   "source": [
    "# Distance in m\n",
    "distances_km = res['distances']"
   ]
  },
  {
   "cell_type": "code",
   "execution_count": 10,
   "metadata": {},
   "outputs": [],
   "source": [
    "integer_matrix = [[round(element) for element in row] for row in distances_km]\n",
    "\n",
    "# integer_matrix"
   ]
  },
  {
   "cell_type": "code",
   "execution_count": 11,
   "metadata": {},
   "outputs": [],
   "source": [
    "demand = df[\"demand\"].tolist()"
   ]
  },
  {
   "cell_type": "code",
   "execution_count": 12,
   "metadata": {},
   "outputs": [
    {
     "data": {
      "text/plain": [
       "181"
      ]
     },
     "execution_count": 12,
     "metadata": {},
     "output_type": "execute_result"
    }
   ],
   "source": [
    "sum(demand)"
   ]
  },
  {
   "cell_type": "code",
   "execution_count": 13,
   "metadata": {},
   "outputs": [],
   "source": [
    "\"\"\"Capacited Vehicles Routing Problem (CVRP).\"\"\"\n",
    "\n",
    "from ortools.constraint_solver import routing_enums_pb2\n",
    "from ortools.constraint_solver import pywrapcp"
   ]
  },
  {
   "cell_type": "code",
   "execution_count": 14,
   "metadata": {},
   "outputs": [
    {
     "name": "stdout",
     "output_type": "stream",
     "text": [
      "Objective: 149726\n",
      "Route for vehicle 0:\n",
      " 0 Load(0) ->  23 Load(2) ->  32 Load(6) ->  34 Load(9) ->  25 Load(11) ->  6 Load(14) ->  10 Load(18) ->  9 Load(21) ->  7 Load(27) ->  8 Load(31) ->  19 Load(40) ->  18 Load(50) ->  20 Load(56) ->  17 Load(60) ->  14 Load(63) ->  16 Load(65) ->  15 Load(67) ->  2 Load(76) ->  5 Load(84) ->  29 Load(87) ->  13 Load(90) ->  11 Load(95) ->  12 Load(102) ->  28 Load(107) ->  30 Load(113) ->  27 Load(132) ->  26 Load(142) ->  1 Load(146) ->  4 Load(155) ->  3 Load(161) ->  33 Load(164) ->  24 Load(167) ->  31 Load(171) ->  21 Load(175) ->  22 Load(181) ->  0 Load(181)\n",
      "Distance of the route: 149726m\n",
      "Load of the route: 181\n",
      "\n",
      "Total distance of all routes: 149726m\n",
      "Total load of all routes: 181\n"
     ]
    }
   ],
   "source": [
    "def create_data_model():\n",
    "    \"\"\"Stores the data for the problem.\"\"\"\n",
    "    data = {}\n",
    "    data[\"distance_matrix\"] = integer_matrix\n",
    "    data[\"demands\"] = demand\n",
    "    data[\"vehicle_capacities\"] = [200]\n",
    "    data[\"num_vehicles\"] = 1\n",
    "    data[\"depot\"] = 0\n",
    "    return data\n",
    "\n",
    "\n",
    "def print_solution(data, manager, routing, solution):\n",
    "    \"\"\"Prints solution on console.\"\"\"\n",
    "    print(f\"Objective: {solution.ObjectiveValue()}\")\n",
    "    total_distance = 0\n",
    "    total_load = 0\n",
    "    for vehicle_id in range(data[\"num_vehicles\"]):\n",
    "        index = routing.Start(vehicle_id)\n",
    "        plan_output = f\"Route for vehicle {vehicle_id}:\\n\"\n",
    "        route_distance = 0\n",
    "        route_load = 0\n",
    "        while not routing.IsEnd(index):\n",
    "            node_index = manager.IndexToNode(index)\n",
    "            route_load += data[\"demands\"][node_index]\n",
    "            plan_output += f\" {node_index} Load({route_load}) -> \"\n",
    "            previous_index = index\n",
    "            index = solution.Value(routing.NextVar(index))\n",
    "            route_distance += routing.GetArcCostForVehicle(\n",
    "                previous_index, index, vehicle_id\n",
    "            )\n",
    "        plan_output += f\" {manager.IndexToNode(index)} Load({route_load})\\n\"\n",
    "        plan_output += f\"Distance of the route: {route_distance}m\\n\"\n",
    "        plan_output += f\"Load of the route: {route_load}\\n\"\n",
    "        print(plan_output)\n",
    "        total_distance += route_distance\n",
    "        total_load += route_load\n",
    "    print(f\"Total distance of all routes: {total_distance}m\")\n",
    "    print(f\"Total load of all routes: {total_load}\")\n",
    "\n",
    "\n",
    "def main():\n",
    "    \"\"\"Solve the CVRP problem.\"\"\"\n",
    "    # Instantiate the data problem.\n",
    "    data = create_data_model()\n",
    "\n",
    "    # Create the routing index manager.\n",
    "    manager = pywrapcp.RoutingIndexManager(\n",
    "        len(data[\"distance_matrix\"]), data[\"num_vehicles\"], data[\"depot\"]\n",
    "    )\n",
    "\n",
    "    # Create Routing Model.\n",
    "    routing = pywrapcp.RoutingModel(manager)\n",
    "\n",
    "    # Create and register a transit callback.\n",
    "    def distance_callback(from_index, to_index):\n",
    "        \"\"\"Returns the distance between the two nodes.\"\"\"\n",
    "        # Convert from routing variable Index to distance matrix NodeIndex.\n",
    "        from_node = manager.IndexToNode(from_index)\n",
    "        to_node = manager.IndexToNode(to_index)\n",
    "        return data[\"distance_matrix\"][from_node][to_node]\n",
    "\n",
    "    transit_callback_index = routing.RegisterTransitCallback(distance_callback)\n",
    "\n",
    "    # Define cost of each arc.\n",
    "    routing.SetArcCostEvaluatorOfAllVehicles(transit_callback_index)\n",
    "\n",
    "    # Add Capacity constraint.\n",
    "    def demand_callback(from_index):\n",
    "        \"\"\"Returns the demand of the node.\"\"\"\n",
    "        # Convert from routing variable Index to demands NodeIndex.\n",
    "        from_node = manager.IndexToNode(from_index)\n",
    "        return data[\"demands\"][from_node]\n",
    "\n",
    "    demand_callback_index = routing.RegisterUnaryTransitCallback(demand_callback)\n",
    "    routing.AddDimensionWithVehicleCapacity(\n",
    "        demand_callback_index,\n",
    "        0,  # null capacity slack\n",
    "        data[\"vehicle_capacities\"],  # vehicle maximum capacities\n",
    "        True,  # start cumul to zero\n",
    "        \"Capacity\",\n",
    "    )\n",
    "\n",
    "    # Setting first solution heuristic.\n",
    "    search_parameters = pywrapcp.DefaultRoutingSearchParameters()\n",
    "    search_parameters.first_solution_strategy = (\n",
    "        routing_enums_pb2.FirstSolutionStrategy.PATH_CHEAPEST_ARC\n",
    "    )\n",
    "    search_parameters.local_search_metaheuristic = (\n",
    "        routing_enums_pb2.LocalSearchMetaheuristic.GUIDED_LOCAL_SEARCH\n",
    "    )\n",
    "    search_parameters.time_limit.FromSeconds(1)\n",
    "\n",
    "    # Solve the problem.\n",
    "    solution = routing.SolveWithParameters(search_parameters)\n",
    "\n",
    "    # Print solution on console.\n",
    "    if solution:\n",
    "        print_solution(data, manager, routing, solution)\n",
    "\n",
    "\n",
    "if __name__ == \"__main__\":\n",
    "    main()"
   ]
  }
 ],
 "metadata": {
  "kaggle": {
   "accelerator": "none",
   "dataSources": [
    {
     "datasetId": 4426908,
     "sourceId": 7604097,
     "sourceType": "datasetVersion"
    },
    {
     "datasetId": 4658696,
     "sourceId": 7926864,
     "sourceType": "datasetVersion"
    }
   ],
   "dockerImageVersionId": 30664,
   "isGpuEnabled": false,
   "isInternetEnabled": true,
   "language": "python",
   "sourceType": "notebook"
  },
  "kernelspec": {
   "display_name": "Python 3 (ipykernel)",
   "language": "python",
   "name": "python3"
  },
  "language_info": {
   "codemirror_mode": {
    "name": "ipython",
    "version": 3
   },
   "file_extension": ".py",
   "mimetype": "text/x-python",
   "name": "python",
   "nbconvert_exporter": "python",
   "pygments_lexer": "ipython3",
   "version": "3.10.1"
  }
 },
 "nbformat": 4,
 "nbformat_minor": 4
}
